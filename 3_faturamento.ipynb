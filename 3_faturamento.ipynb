{
  "nbformat": 4,
  "nbformat_minor": 0,
  "metadata": {
    "colab": {
      "provenance": [],
      "authorship_tag": "ABX9TyPb8qLpF0EuFtyqFpOmFohz",
      "include_colab_link": true
    },
    "kernelspec": {
      "name": "python3",
      "display_name": "Python 3"
    },
    "language_info": {
      "name": "python"
    }
  },
  "cells": [
    {
      "cell_type": "markdown",
      "metadata": {
        "id": "view-in-github",
        "colab_type": "text"
      },
      "source": [
        "<a href=\"https://colab.research.google.com/github/gisicabral/targetsistemas/blob/main/3_faturamento.ipynb\" target=\"_parent\"><img src=\"https://colab.research.google.com/assets/colab-badge.svg\" alt=\"Open In Colab\"/></a>"
      ]
    },
    {
      "cell_type": "markdown",
      "source": [
        "3) Dado um vetor que guarda o valor de faturamento diário de uma distribuidora, faça um programa, na linguagem que desejar, que calcule e retorne: • O menor valor de faturamento ocorrido em um dia do mês; • O maior valor de faturamento ocorrido em um dia do mês; • Número de dias no mês em que o valor de faturamento diário foi superior à média mensal. IMPORTANTE: a) Usar o json ou xml disponível como fonte dos dados do faturamento mensal; b) Podem existir dias sem faturamento, como nos finais de semana e feriados. Estes dias devem ser ignorados no cálculo da média;"
      ],
      "metadata": {
        "id": "X1ssKN24G8F2"
      }
    },
    {
      "cell_type": "code",
      "execution_count": null,
      "metadata": {
        "id": "dKV3JBP1G7f4"
      },
      "outputs": [],
      "source": [
        "import json\n",
        "\n",
        "# Supondo que temos um arquivo 'faturamento.json' com os dados de faturamento\n",
        "with open('faturamento.json', 'r') as file:\n",
        "    data = json.load(file)\n",
        "\n",
        "faturamentos = data['faturamento']\n",
        "\n",
        "# Filtrar dias com faturamento para ignorar finais de semana e feriados\n",
        "faturamentos_validos = [f for f in faturamentos if f > 0]\n",
        "\n",
        "menor_faturamento = min(faturamentos_validos)\n",
        "maior_faturamento = max(faturamentos_validos)\n",
        "media_mensal = sum(faturamentos_validos) / len(faturamentos_validos)\n",
        "dias_acima_da_media = sum(1 for f in faturamentos_validos if f > media_mensal)\n",
        "\n",
        "print(f\"O menor valor de faturamento ocorrido em um dia do mês foi: {menor_faturamento}\")\n",
        "print(f\"O maior valor de faturamento ocorrido em um dia do mês foi: {maior_faturamento}\")\n",
        "print(f\"Número de dias no mês em que o valor de faturamento diário foi superior à média mensal: {dias_acima_da_media}\")\n"
      ]
    },
    {
      "cell_type": "markdown",
      "source": [
        "Esse código funciona da seguinte maneira:\n",
        "\n",
        "1.   Carrega os dados de faturamento a partir de um arquivo JSON.\n",
        "2.   Filtra os dias com faturamento maior que zero, ignorando finais de semana e feriados.\n",
        "3.   Calcula o menor e o maior valor de faturamento.\n",
        "4.   Calcula a média mensal com base nos dias válidos.\n",
        "5.   Conta o número de dias em que o faturamento foi superior à média."
      ],
      "metadata": {
        "id": "UnnJHv2OHBZe"
      }
    }
  ]
}