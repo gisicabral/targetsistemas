{
  "nbformat": 4,
  "nbformat_minor": 0,
  "metadata": {
    "colab": {
      "provenance": [],
      "authorship_tag": "ABX9TyNQNwkkUEqoAUaIGiSMgwKz",
      "include_colab_link": true
    },
    "kernelspec": {
      "name": "python3",
      "display_name": "Python 3"
    },
    "language_info": {
      "name": "python"
    }
  },
  "cells": [
    {
      "cell_type": "markdown",
      "metadata": {
        "id": "view-in-github",
        "colab_type": "text"
      },
      "source": [
        "<a href=\"https://colab.research.google.com/github/gisicabral/targetsistemas/blob/main/5_inverter_string.ipynb\" target=\"_parent\"><img src=\"https://colab.research.google.com/assets/colab-badge.svg\" alt=\"Open In Colab\"/></a>"
      ]
    },
    {
      "cell_type": "markdown",
      "source": [
        "5) Escreva um programa que inverta os caracteres de um string.\n",
        "\n",
        "IMPORTANTE:\n",
        "\n",
        "a) Essa string pode ser informada através de qualquer entrada de sua preferência ou pode ser previamente definida no código;\n",
        "\n",
        "b) Evite usar funções prontas, como, por exemplo, reverse;"
      ],
      "metadata": {
        "id": "lE8OZlcrKEWd"
      }
    },
    {
      "cell_type": "code",
      "execution_count": 1,
      "metadata": {
        "id": "TLkofQlwJXNg",
        "colab": {
          "base_uri": "https://localhost:8080/"
        },
        "outputId": "b7252bf8-7cd3-4974-ebf6-f51cd079d389"
      },
      "outputs": [
        {
          "output_type": "stream",
          "name": "stdout",
          "text": [
            "String original: Exemplo de string\n",
            "String invertida: gnirts ed olpmexE\n",
            "Digite uma string para inverter: giselle\n",
            "String invertida: ellesig\n"
          ]
        }
      ],
      "source": [
        "def inverter_string(s):\n",
        "    resultado = \"\"\n",
        "    for char in s:\n",
        "        resultado = char + resultado\n",
        "    return resultado\n",
        "\n",
        "# Exemplo de uso com uma string previamente definida\n",
        "string_original = \"Exemplo de string\"\n",
        "string_invertida = inverter_string(string_original)\n",
        "print(f\"String original: {string_original}\")\n",
        "print(f\"String invertida: {string_invertida}\")\n",
        "\n",
        "# Exemplo de uso com entrada do usuário\n",
        "string_usuario = input(\"Digite uma string para inverter: \")\n",
        "string_invertida_usuario = inverter_string(string_usuario)\n",
        "print(f\"String invertida: {string_invertida_usuario}\")\n"
      ]
    }
  ]
}