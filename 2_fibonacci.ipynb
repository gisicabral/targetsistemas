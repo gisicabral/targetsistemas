{
  "nbformat": 4,
  "nbformat_minor": 0,
  "metadata": {
    "colab": {
      "provenance": [],
      "authorship_tag": "ABX9TyN6t4CDHciPQ44yB8Ms9YVU",
      "include_colab_link": true
    },
    "kernelspec": {
      "name": "python3",
      "display_name": "Python 3"
    },
    "language_info": {
      "name": "python"
    }
  },
  "cells": [
    {
      "cell_type": "markdown",
      "metadata": {
        "id": "view-in-github",
        "colab_type": "text"
      },
      "source": [
        "<a href=\"https://colab.research.google.com/github/gisicabral/targetsistemas/blob/main/2_fibonacci.ipynb\" target=\"_parent\"><img src=\"https://colab.research.google.com/assets/colab-badge.svg\" alt=\"Open In Colab\"/></a>"
      ]
    },
    {
      "cell_type": "markdown",
      "source": [
        " Dado a sequência de Fibonacci, onde se inicia por 0 e 1 e o próximo valor sempre será a soma dos 2 valores anteriores (exemplo: 0, 1, 1, 2, 3, 5, 8, 13, 21, 34...), escreva um programa na linguagem que desejar onde, informado um número, ele calcule a sequência de Fibonacci e retorne uma mensagem avisando se o número informado pertence ou não a sequência."
      ],
      "metadata": {
        "id": "maE2_8pfFZ8s"
      }
    },
    {
      "cell_type": "code",
      "execution_count": 2,
      "metadata": {
        "colab": {
          "base_uri": "https://localhost:8080/"
        },
        "id": "h329auGaFY46",
        "outputId": "e5165242-e949-47d9-ad99-316c9513cc91"
      },
      "outputs": [
        {
          "output_type": "stream",
          "name": "stdout",
          "text": [
            "Informe um número: 5\n",
            "O número 5 pertence à sequência de Fibonacci.\n"
          ]
        }
      ],
      "source": [
        "def fibonacci_sequence(n):\n",
        "    sequence = [0, 1]\n",
        "    while sequence[-1] < n:\n",
        "        sequence.append(sequence[-1] + sequence[-2])\n",
        "    return sequence\n",
        "\n",
        "def is_in_fibonacci(n):\n",
        "    sequence = fibonacci_sequence(n)\n",
        "    if n in sequence:\n",
        "        return f\"O número {n} pertence à sequência de Fibonacci.\"\n",
        "    else:\n",
        "        return f\"O número {n} não pertence à sequência de Fibonacci.\"\n",
        "\n",
        "# Exemplo de uso\n",
        "numero = int(input(\"Informe um número: \"))\n",
        "print(is_in_fibonacci(numero))\n"
      ]
    }
  ]
}