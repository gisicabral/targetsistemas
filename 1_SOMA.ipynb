{
  "nbformat": 4,
  "nbformat_minor": 0,
  "metadata": {
    "colab": {
      "provenance": [],
      "authorship_tag": "ABX9TyMYn19LcloBPmfL0Dys/EbB",
      "include_colab_link": true
    },
    "kernelspec": {
      "name": "python3",
      "display_name": "Python 3"
    },
    "language_info": {
      "name": "python"
    }
  },
  "cells": [
    {
      "cell_type": "markdown",
      "metadata": {
        "id": "view-in-github",
        "colab_type": "text"
      },
      "source": [
        "<a href=\"https://colab.research.google.com/github/gisicabral/targetsistemas/blob/main/1_SOMA.ipynb\" target=\"_parent\"><img src=\"https://colab.research.google.com/assets/colab-badge.svg\" alt=\"Open In Colab\"/></a>"
      ]
    },
    {
      "cell_type": "markdown",
      "source": [
        "1) Observe o trecho de código abaixo: int INDICE = 13, SOMA = 0, K = 0;\n",
        "Enquanto K < INDICE faça { K = K + 1; SOMA = SOMA + K; }\n",
        "Imprimir(SOMA);\n",
        "Ao final do processamento, qual será o valor da variável SOMA?"
      ],
      "metadata": {
        "id": "UzBL1FriBWcr"
      }
    },
    {
      "cell_type": "markdown",
      "source": [
        "Analisando o Código e Calculando o Valor Final de SOMA\n",
        "Vamos desmembrar o código passo a passo para entender o que acontece:\n",
        "\n",
        "Declaração das variáveis:\n",
        "\n",
        "INDICE recebe o valor 13. Essa variável define o limite superior do nosso loop.\n",
        "SOMA é inicializada com 0. Essa variável armazenará a soma dos números.\n",
        "K é inicializada com 0. Essa variável será usada como contador no loop.\n",
        "O loop Enquanto K < INDICE faça:\n",
        "\n",
        "Condição: Enquanto K for menor que 13, o bloco de código dentro do loop será executado.\n",
        "Corpo do loop:\n",
        "K = K + 1;: A cada iteração, o valor de K é incrementado em 1.\n",
        "SOMA = SOMA + K;: A cada iteração, o valor atual de K é adicionado à variável SOMA."
      ],
      "metadata": {
        "id": "xnTf5PhiBglK"
      }
    },
    {
      "cell_type": "markdown",
      "source": [
        "Impressão:\n",
        "\n",
        "Após o término do loop, o valor final de SOMA é impresso.\n",
        "Em outras palavras, o código está calculando a soma dos números de 1 a 13.\n",
        "\n",
        "Vamos acompanhar a execução passo a passo:"
      ],
      "metadata": {
        "id": "ucskmnrcBvY0"
      }
    },
    {
      "cell_type": "markdown",
      "source": [
        "https://docs.google.com/spreadsheets/d/1N9FwrzPBxZPRAX-A_JS6wQ3vo30KOgiIshqxAm3tjrQ/edit?gid=1285402073#gid=1285402073"
      ],
      "metadata": {
        "id": "g59dDrq7CBmM"
      }
    },
    {
      "cell_type": "markdown",
      "source": [
        "Portanto, ao final do processamento, o valor da variável SOMA será 91.\n",
        "\n",
        "Podemos generalizar este problema:\n",
        "\n",
        "Quando queremos somar todos os números inteiros de 1 até um determinado valor N, podemos usar a fórmula:\n",
        "\n",
        "Soma = N * (N + 1) / 2"
      ],
      "metadata": {
        "id": "KcV9S7u5C9KQ"
      }
    },
    {
      "cell_type": "markdown",
      "source": [
        "No nosso caso, N = 13, então:\n",
        "\n",
        "Soma = 13 * (13 + 1) / 2 = 13 * 14 / 2 = 91"
      ],
      "metadata": {
        "id": "Br6sfsHhDKRi"
      }
    },
    {
      "cell_type": "markdown",
      "source": [
        "Conclusão:\n",
        "\n",
        "O código fornecido calcula a soma dos números de 1 a 13, resultando em SOMA = 91."
      ],
      "metadata": {
        "id": "0aFZ4MKQDd3v"
      }
    }
  ]
}