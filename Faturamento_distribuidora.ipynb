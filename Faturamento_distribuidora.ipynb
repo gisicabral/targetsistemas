{
  "nbformat": 4,
  "nbformat_minor": 0,
  "metadata": {
    "colab": {
      "provenance": [],
      "authorship_tag": "ABX9TyPQeIwHwSdqO1sVvcfkoF68",
      "include_colab_link": true
    },
    "kernelspec": {
      "name": "python3",
      "display_name": "Python 3"
    },
    "language_info": {
      "name": "python"
    }
  },
  "cells": [
    {
      "cell_type": "markdown",
      "metadata": {
        "id": "view-in-github",
        "colab_type": "text"
      },
      "source": [
        "<a href=\"https://colab.research.google.com/github/gisicabral/targetsistemas/blob/main/Faturamento_distribuidora.ipynb\" target=\"_parent\"><img src=\"https://colab.research.google.com/assets/colab-badge.svg\" alt=\"Open In Colab\"/></a>"
      ]
    },
    {
      "cell_type": "markdown",
      "source": [
        "4) Dado o valor de faturamento mensal de uma distribuidora, detalhado por estado:\n",
        "\n",
        "\n",
        "\n",
        "*   SP – R$67.836,43\n",
        "\n",
        "*   RJ – R$36.678,66\n",
        "\n",
        "*   MG – R$29.229,88\n",
        "\n",
        "*   ES – R$27.165,48\n",
        "\n",
        "*   Outros – R$19.849,53"
      ],
      "metadata": {
        "id": "EXFnwcZbIC7q"
      }
    },
    {
      "cell_type": "code",
      "execution_count": 1,
      "metadata": {
        "colab": {
          "base_uri": "https://localhost:8080/"
        },
        "id": "VdHBMUVSIBiE",
        "outputId": "0784a6cd-d007-4ced-c342-14fa8da5f508"
      },
      "outputs": [
        {
          "output_type": "stream",
          "name": "stdout",
          "text": [
            "SP: 37.53%\n",
            "RJ: 20.29%\n",
            "MG: 16.17%\n",
            "ES: 15.03%\n",
            "Outros: 10.98%\n"
          ]
        }
      ],
      "source": [
        "# Dados de faturamento mensal por estado\n",
        "faturamento = {\n",
        "    \"SP\": 67836.43,\n",
        "    \"RJ\": 36678.66,\n",
        "    \"MG\": 29229.88,\n",
        "    \"ES\": 27165.48,\n",
        "    \"Outros\": 19849.53\n",
        "}\n",
        "\n",
        "# Calcula o faturamento total\n",
        "faturamento_total = sum(faturamento.values())\n",
        "\n",
        "# Calcula o percentual de cada estado\n",
        "percentuais = {estado: (valor / faturamento_total) * 100 for estado, valor in faturamento.items()}\n",
        "\n",
        "# Exibe os resultados\n",
        "for estado, percentual in percentuais.items():\n",
        "    print(f\"{estado}: {percentual:.2f}%\")\n"
      ]
    }
  ]
}